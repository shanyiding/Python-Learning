{
 "cells": [
  {
   "cell_type": "markdown",
   "id": "ea19f281",
   "metadata": {},
   "source": [
    "# Chapter 3: Designing and Using Functions"
   ]
  },
  {
   "cell_type": "markdown",
   "id": "bfc9029f",
   "metadata": {},
   "source": [
    "Function structure: functionname(argument)"
   ]
  },
  {
   "cell_type": "code",
   "execution_count": 24,
   "id": "d8f4edee",
   "metadata": {},
   "outputs": [
    {
     "name": "stdout",
     "output_type": "stream",
     "text": [
      "Help on built-in function abs in module builtins:\n",
      "\n",
      "abs(x, /)\n",
      "    Return the absolute value of the argument.\n",
      "\n"
     ]
    }
   ],
   "source": [
    "#find the usage of a function: help(functionname)\n",
    "help(abs)"
   ]
  },
  {
   "cell_type": "code",
   "execution_count": 11,
   "id": "7dcedbbb",
   "metadata": {},
   "outputs": [
    {
     "data": {
      "text/plain": [
       "16"
      ]
     },
     "execution_count": 11,
     "metadata": {},
     "output_type": "execute_result"
    }
   ],
   "source": [
    "#power: pow(base,exponent)\n",
    "pow(4,2)"
   ]
  },
  {
   "cell_type": "code",
   "execution_count": 14,
   "id": "a2aa7495",
   "metadata": {},
   "outputs": [
    {
     "data": {
      "text/plain": [
       "4"
      ]
     },
     "execution_count": 14,
     "metadata": {},
     "output_type": "execute_result"
    }
   ],
   "source": [
    "#round number\n",
    "round(4.5)"
   ]
  },
  {
   "cell_type": "code",
   "execution_count": 16,
   "id": "07dc7d39",
   "metadata": {},
   "outputs": [
    {
     "data": {
      "text/plain": [
       "1"
      ]
     },
     "execution_count": 16,
     "metadata": {},
     "output_type": "execute_result"
    }
   ],
   "source": [
    "#convert to integer\n",
    "int(1.223)"
   ]
  },
  {
   "cell_type": "code",
   "execution_count": 21,
   "id": "5d3e8f7d",
   "metadata": {},
   "outputs": [
    {
     "data": {
      "text/plain": [
       "21.0"
      ]
     },
     "execution_count": 21,
     "metadata": {},
     "output_type": "execute_result"
    }
   ],
   "source": [
    "#convert to float (add .0 to whole number)\n",
    "float(21)"
   ]
  },
  {
   "cell_type": "code",
   "execution_count": 25,
   "id": "1fe3356f",
   "metadata": {},
   "outputs": [
    {
     "data": {
      "text/plain": [
       "9"
      ]
     },
     "execution_count": 25,
     "metadata": {},
     "output_type": "execute_result"
    }
   ],
   "source": [
    "#absolute value of a number\n",
    "abs(-9)"
   ]
  },
  {
   "cell_type": "markdown",
   "id": "8f964e8f",
   "metadata": {},
   "source": [
    "Defining own function practices"
   ]
  },
  {
   "cell_type": "code",
   "execution_count": 26,
   "id": "e17a5505",
   "metadata": {},
   "outputs": [
    {
     "data": {
      "text/plain": [
       "21.11111111111111"
      ]
     },
     "execution_count": 26,
     "metadata": {},
     "output_type": "execute_result"
    }
   ],
   "source": [
    "#example 1\n",
    "\n",
    "def celsius(fahrenheit):\n",
    "    return (fahrenheit-32)*5/9\n",
    "\n",
    "celsius(70)"
   ]
  },
  {
   "cell_type": "code",
   "execution_count": 30,
   "id": "85eb064f",
   "metadata": {},
   "outputs": [
    {
     "data": {
      "text/plain": [
       "298.15"
      ]
     },
     "execution_count": 30,
     "metadata": {},
     "output_type": "execute_result"
    }
   ],
   "source": [
    "#example 2\n",
    "\n",
    "def kelvins(celsius):\n",
    "    return (celsius)+273.15\n",
    "\n",
    "kelvins(25)"
   ]
  },
  {
   "cell_type": "markdown",
   "id": "08f1e246",
   "metadata": {},
   "source": [
    "EXERCISES (PAGE 63)"
   ]
  },
  {
   "cell_type": "code",
   "execution_count": 32,
   "id": "b4bce18f",
   "metadata": {},
   "outputs": [
    {
     "data": {
      "text/plain": [
       "7"
      ]
     },
     "execution_count": 32,
     "metadata": {},
     "output_type": "execute_result"
    }
   ],
   "source": [
    "#1.Two of Python’s built-in functions are min and max. In the Python shell, execute the following function calls:\n",
    "#(a)\n",
    "\n",
    "min(2,3,4)"
   ]
  },
  {
   "cell_type": "code",
   "execution_count": 34,
   "id": "e385cf71",
   "metadata": {},
   "outputs": [
    {
     "data": {
      "text/plain": [
       "7"
      ]
     },
     "execution_count": 34,
     "metadata": {},
     "output_type": "execute_result"
    }
   ],
   "source": [
    "#(b)\n",
    "\n",
    "max(2,-3,4,7,-5)"
   ]
  },
  {
   "cell_type": "code",
   "execution_count": 33,
   "id": "db86326c",
   "metadata": {},
   "outputs": [
    {
     "data": {
      "text/plain": [
       "4"
      ]
     },
     "execution_count": 33,
     "metadata": {},
     "output_type": "execute_result"
    }
   ],
   "source": [
    "#(c)\n",
    "\n",
    "max(2,-3,min(4,7),-5)"
   ]
  },
  {
   "cell_type": "code",
   "execution_count": 36,
   "id": "0008c715",
   "metadata": {},
   "outputs": [
    {
     "data": {
      "text/plain": [
       "6"
      ]
     },
     "execution_count": 36,
     "metadata": {},
     "output_type": "execute_result"
    }
   ],
   "source": [
    "#3. Following the function design recipe, define a function that has one parameter, a number, and returns that number tripled.\n",
    "\n",
    "def triple(x):\n",
    "    return 3*x\n",
    "\n",
    "triple(2)"
   ]
  },
  {
   "cell_type": "code",
   "execution_count": 37,
   "id": "1c241ce4",
   "metadata": {},
   "outputs": [
    {
     "data": {
      "text/plain": [
       "3"
      ]
     },
     "execution_count": 37,
     "metadata": {},
     "output_type": "execute_result"
    }
   ],
   "source": [
    "#4. Following the function design recipe, define a function that has two parameters, both of which are numbers, and returns the absolute value of the difference of the two. Hint: Call built-in function abs.\n",
    "\n",
    "def absdifference(a,b):\n",
    "    return abs(a-b)\n",
    "\n",
    "absdifference(1,4)"
   ]
  },
  {
   "cell_type": "code",
   "execution_count": 45,
   "id": "6d19e049",
   "metadata": {},
   "outputs": [
    {
     "data": {
      "text/plain": [
       "6.25"
      ]
     },
     "execution_count": 45,
     "metadata": {},
     "output_type": "execute_result"
    }
   ],
   "source": [
    "#5. Following the function design recipe, define a function that has one parameter, a distance in kilometers, and returns the distance in miles. (There are 1.6 kilometers per mile.)\n",
    "\n",
    "def miles(kilometers):\n",
    "    return (kilometers/1.6) \n",
    "\n",
    "miles(10)"
   ]
  },
  {
   "cell_type": "code",
   "execution_count": 47,
   "id": "b9083a04",
   "metadata": {},
   "outputs": [
    {
     "data": {
      "text/plain": [
       "91.33333333333333"
      ]
     },
     "execution_count": 47,
     "metadata": {},
     "output_type": "execute_result"
    }
   ],
   "source": [
    "#6. Following the function design recipe, define a function that has three parameters, grades between 0 and 100 inclusive, and returns the average of those grades.\n",
    "\n",
    "def average(a,b,c):\n",
    "    return (a+b+c)/3\n",
    "\n",
    "average(90,98,86)"
   ]
  },
  {
   "cell_type": "code",
   "execution_count": 49,
   "id": "50e6de51",
   "metadata": {},
   "outputs": [
    {
     "data": {
      "text/plain": [
       "80.0"
      ]
     },
     "execution_count": 49,
     "metadata": {},
     "output_type": "execute_result"
    }
   ],
   "source": [
    "#7. Following the function design recipe, define a function that has four parameters, all of them grades between 0 and 100 inclusive, and returns the average of the best 3 of those grades. Hint: Call the function that you defined in the previous exercise.\n",
    "\n",
    "def best3(a,b,c,d):\n",
    "    return (a+b+c+d-min(a,b,c,d))/3\n",
    "\n",
    "best3(10,70,80,90)"
   ]
  },
  {
   "cell_type": "code",
   "execution_count": 55,
   "id": "e47b4a9a",
   "metadata": {},
   "outputs": [
    {
     "data": {
      "text/plain": [
       "2"
      ]
     },
     "execution_count": 55,
     "metadata": {},
     "output_type": "execute_result"
    }
   ],
   "source": [
    "#8. Complete the examples in the docstring and then write the body of the following function:\n",
    "\n",
    "def weeks_elapsed(day1, day2):\n",
    "    return int(abs(day2-day1)/7)\n",
    "\n",
    "\"\"\" (int, int) -> int\n",
    "day1 and day2 are days in the same year. Return the number of full weeks\n",
    "that have elapsed between the two days.\n",
    ">>> weeks_elapsed(3, 20)\n",
    "2\n",
    ">>> weeks_elapsed(20, 3)\n",
    "2\n",
    ">>> weeks_elapsed(8, 5)\n",
    ">>> weeks_elapsed(40, 61)\n",
    "\"\"\"\n",
    "\n",
    "weeks_elapsed(20,3)"
   ]
  },
  {
   "cell_type": "code",
   "execution_count": 56,
   "id": "299ca7aa",
   "metadata": {},
   "outputs": [
    {
     "data": {
      "text/plain": [
       "9"
      ]
     },
     "execution_count": 56,
     "metadata": {},
     "output_type": "execute_result"
    }
   ],
   "source": [
    "#9. Consider this code:\n",
    "\n",
    "def square(num):\n",
    "    return pow(num,2)\n",
    "    \n",
    "\"\"\" (number) -> number\n",
    "Return the square of num.\n",
    ">>> square(3)\n",
    "9\n",
    "\"\"\"\n",
    "\n",
    "square(3)"
   ]
  },
  {
   "cell_type": "markdown",
   "id": "85a28cb8",
   "metadata": {},
   "source": [
    "# Chapter 4: Working with Text"
   ]
  },
  {
   "cell_type": "markdown",
   "id": "2c8eea3f",
   "metadata": {},
   "source": [
    "String (can be number, letters, spaces): 'string' or \"string\"\n",
    "\n",
    "EOL = end of line"
   ]
  },
  {
   "cell_type": "code",
   "execution_count": 60,
   "id": "c4558592",
   "metadata": {},
   "outputs": [
    {
     "data": {
      "text/plain": [
       "15"
      ]
     },
     "execution_count": 60,
     "metadata": {},
     "output_type": "execute_result"
    }
   ],
   "source": [
    "#Operations on Strings\n",
    "#Count the length of the string including spaces: len(string)\n",
    "\n",
    "len('Albert Einstein')"
   ]
  },
  {
   "cell_type": "code",
   "execution_count": 13,
   "id": "5aaccaca",
   "metadata": {},
   "outputs": [
    {
     "data": {
      "text/plain": [
       "'Albert Einstein H2OH2OH2O'"
      ]
     },
     "execution_count": 13,
     "metadata": {},
     "output_type": "execute_result"
    }
   ],
   "source": [
    "#Add and multiply string\n",
    "\n",
    "'Albert '+'Einstein '+ 'H2O'*3"
   ]
  },
  {
   "cell_type": "code",
   "execution_count": 74,
   "id": "3616fccc",
   "metadata": {},
   "outputs": [
    {
     "name": "stdout",
     "output_type": "stream",
     "text": [
      "one\n",
      "two\n",
      "three\tfour\n"
     ]
    }
   ],
   "source": [
    "#print ppositions: \\n: next row; \\t: next column\n",
    "\n",
    "print('one\\ntwo\\nthree\\tfour')"
   ]
  },
  {
   "cell_type": "code",
   "execution_count": 4,
   "id": "374a80cf",
   "metadata": {},
   "outputs": [
    {
     "data": {
      "text/plain": [
       "10"
      ]
     },
     "execution_count": 4,
     "metadata": {},
     "output_type": "execute_result"
    }
   ],
   "source": [
    "#sequence\n",
    "\n",
    "sequence = 'ATTGTCCCCC'\n",
    "len(sequence)"
   ]
  },
  {
   "cell_type": "code",
   "execution_count": 6,
   "id": "ef3c8a88",
   "metadata": {},
   "outputs": [
    {
     "data": {
      "text/plain": [
       "\"Darwin's\""
      ]
     },
     "execution_count": 6,
     "metadata": {},
     "output_type": "execute_result"
    }
   ],
   "source": [
    "#Typing apostrophe (\\')\n",
    "'Darwin\\'s'"
   ]
  },
  {
   "cell_type": "markdown",
   "id": "09a8e5cd",
   "metadata": {},
   "source": [
    "EXERCISES (PAGE 75)"
   ]
  },
  {
   "cell_type": "code",
   "execution_count": 19,
   "id": "604db837",
   "metadata": {},
   "outputs": [
    {
     "name": "stdout",
     "output_type": "stream",
     "text": [
      "They'll hibernate during the winter.\n"
     ]
    }
   ],
   "source": [
    "#2. Express each of the following phrases as Python strings using the appropriate type of quotation marks (single, double, or triple) and, if necessary, escape sequences. There is more than one correct answer for each of these phrases.\n",
    "\n",
    "#(a)\n",
    "print('They\\'ll hibernate during the winter.')"
   ]
  },
  {
   "cell_type": "code",
   "execution_count": 18,
   "id": "d2d6a88a",
   "metadata": {},
   "outputs": [
    {
     "name": "stdout",
     "output_type": "stream",
     "text": [
      "\"Absolutely not.\"he said\n"
     ]
    }
   ],
   "source": [
    "#(b)\n",
    "print('\\\"Absolutely not.\\\"he said')"
   ]
  },
  {
   "cell_type": "code",
   "execution_count": 21,
   "id": "95666a2b",
   "metadata": {},
   "outputs": [
    {
     "name": "stdout",
     "output_type": "stream",
     "text": [
      "\"He said,'Absolutely not,'\" recalled Mel.\n"
     ]
    }
   ],
   "source": [
    "#(c)\n",
    "print('\\\"He said,\\'Absolutely not,\\'\\\" recalled Mel.')"
   ]
  },
  {
   "cell_type": "code",
   "execution_count": 24,
   "id": "b09af4a2",
   "metadata": {},
   "outputs": [
    {
     "name": "stdout",
     "output_type": "stream",
     "text": [
      "hydrogen sulfide\n"
     ]
    }
   ],
   "source": [
    "#(d)\n",
    "print('hydrogen sulfide')"
   ]
  },
  {
   "cell_type": "code",
   "execution_count": 28,
   "id": "0a7d5f1e",
   "metadata": {},
   "outputs": [
    {
     "name": "stdout",
     "output_type": "stream",
     "text": [
      "left\\right\n"
     ]
    }
   ],
   "source": [
    "#(e)\n",
    "print('left\\\\right')"
   ]
  },
  {
   "cell_type": "code",
   "execution_count": 30,
   "id": "6d976c91",
   "metadata": {},
   "outputs": [
    {
     "name": "stdout",
     "output_type": "stream",
     "text": [
      "'''A\n"
     ]
    }
   ],
   "source": [
    "#3. Rewrite the following string using single or double quotes instead of triple quotes:\n",
    "\n",
    "print('\\'\\'\\'A')"
   ]
  },
  {
   "cell_type": "code",
   "execution_count": 31,
   "id": "6b4b2b7c",
   "metadata": {},
   "outputs": [
    {
     "data": {
      "text/plain": [
       "0"
      ]
     },
     "execution_count": 31,
     "metadata": {},
     "output_type": "execute_result"
    }
   ],
   "source": [
    "#4. Use built-in function len to find the length of the empty string.\n",
    "\n",
    "len('')"
   ]
  },
  {
   "cell_type": "code",
   "execution_count": 51,
   "id": "70d10af7",
   "metadata": {},
   "outputs": [
    {
     "name": "stdout",
     "output_type": "stream",
     "text": [
      "The rabbit is 3.\n",
      "The rabbit is 3years old.\n",
      "12.5is average.\n",
      "12.5*3\n",
      "12.5*3 is 37.5.\n"
     ]
    }
   ],
   "source": [
    "#5. Given variables x and y, which refer to values 3 and 12.5, respectively, use function print to print the following messages. When numbers appear in the messages, variables x and y should be used.\n",
    "#(a)\n",
    "\n",
    "x=3\n",
    "y=12.5\n",
    "print('The rabbit is ' + str(x) + '.')\n",
    "print('The rabbit is ' + str(x) + 'years old.')\n",
    "print(str(y) +'is average.')\n",
    "print(str(y)+'*'+str(x))\n",
    "print(str(y)+'*'+str(x)+' is '+ str(x*y)+'.')"
   ]
  },
  {
   "cell_type": "code",
   "execution_count": 53,
   "id": "7bcf5305",
   "metadata": {},
   "outputs": [
    {
     "name": "stdout",
     "output_type": "stream",
     "text": [
      "5\n",
      "5.0\n"
     ]
    }
   ],
   "source": [
    "#7. Use input to prompt the user for a number, store the number entered as a float in a variable named num, and then print the contents of num.\n",
    "\n",
    "num = float(input())\n",
    "print(num)"
   ]
  },
  {
   "cell_type": "code",
   "execution_count": 64,
   "id": "4774bd7f",
   "metadata": {},
   "outputs": [
    {
     "data": {
      "text/plain": [
       "'animalanimal'"
      ]
     },
     "execution_count": 64,
     "metadata": {},
     "output_type": "execute_result"
    }
   ],
   "source": [
    "#8. Complete the examples in the docstring and then write the body of the following function:\n",
    "\n",
    "def repeat(s, n):\n",
    "    return s*n\n",
    "    \n",
    "\"\"\" Return s repeated n times; if n is negative, return the empty string.\n",
    ">>> repeat('yes', 4)\n",
    "'yesyesyesyes'\n",
    ">>> repeat('no', 0)\n",
    ">>> repeat('no', -2)\n",
    ">>> repeat('yesnomaybe', 3)\n",
    "\"\"\"\n",
    "\n",
    "repeat('animal',2)"
   ]
  },
  {
   "cell_type": "code",
   "execution_count": 67,
   "id": "bc9f8e50",
   "metadata": {},
   "outputs": [
    {
     "data": {
      "text/plain": [
       "12"
      ]
     },
     "execution_count": 67,
     "metadata": {},
     "output_type": "execute_result"
    }
   ],
   "source": [
    "#9. Complete the examples in the docstring and then write the body of the following function:\n",
    "\n",
    "def total_length(s1, s2):\n",
    "    return (len(s1)+len(s2))\n",
    "\n",
    "\"\"\" Return the sum of the lengths of s1 and s2.\n",
    ">>> total_length('yes', 'no')\n",
    "5\n",
    ">>> total_length('yes', '')\n",
    ">>> total_length('YES!!!!', 'Noooooo')\n",
    "\"\"\"\n",
    "\n",
    "total_length('icecream!','co2')"
   ]
  },
  {
   "cell_type": "markdown",
   "id": "2ab335b3",
   "metadata": {},
   "source": [
    "# Chapter 5: Making Choices"
   ]
  },
  {
   "cell_type": "markdown",
   "id": "0aefd555",
   "metadata": {},
   "source": [
    "Boolean Type: bool can only be true or false.\n",
    "\n",
    "Relational Operators: >, <, >=, <=, ==, != (not equal to)    "
   ]
  },
  {
   "cell_type": "code",
   "execution_count": null,
   "id": "fcc58e9a",
   "metadata": {},
   "outputs": [],
   "source": []
  },
  {
   "cell_type": "code",
   "execution_count": null,
   "id": "3bac091d",
   "metadata": {},
   "outputs": [],
   "source": []
  },
  {
   "cell_type": "code",
   "execution_count": null,
   "id": "83ef32ad",
   "metadata": {},
   "outputs": [],
   "source": []
  },
  {
   "cell_type": "code",
   "execution_count": null,
   "id": "75a203c7",
   "metadata": {},
   "outputs": [],
   "source": []
  },
  {
   "cell_type": "code",
   "execution_count": null,
   "id": "f32911de",
   "metadata": {},
   "outputs": [],
   "source": []
  },
  {
   "cell_type": "markdown",
   "id": "5f11441b",
   "metadata": {},
   "source": [
    "EXERCISES (PAGE 95)"
   ]
  },
  {
   "cell_type": "code",
   "execution_count": null,
   "id": "4b9da69a",
   "metadata": {},
   "outputs": [],
   "source": []
  },
  {
   "cell_type": "code",
   "execution_count": null,
   "id": "09fa4404",
   "metadata": {},
   "outputs": [],
   "source": []
  },
  {
   "cell_type": "code",
   "execution_count": null,
   "id": "3713734b",
   "metadata": {},
   "outputs": [],
   "source": []
  },
  {
   "cell_type": "markdown",
   "id": "9c83d852",
   "metadata": {},
   "source": [
    "# Chapter 6: A MOdular Approach to Program Organization"
   ]
  },
  {
   "cell_type": "code",
   "execution_count": null,
   "id": "a34d02d3",
   "metadata": {},
   "outputs": [],
   "source": []
  },
  {
   "cell_type": "code",
   "execution_count": null,
   "id": "eb0e8566",
   "metadata": {},
   "outputs": [],
   "source": []
  },
  {
   "cell_type": "code",
   "execution_count": null,
   "id": "0b75a481",
   "metadata": {},
   "outputs": [],
   "source": []
  },
  {
   "cell_type": "code",
   "execution_count": null,
   "id": "cf9ba0ed",
   "metadata": {},
   "outputs": [],
   "source": []
  },
  {
   "cell_type": "code",
   "execution_count": null,
   "id": "e74a20b6",
   "metadata": {},
   "outputs": [],
   "source": []
  },
  {
   "cell_type": "code",
   "execution_count": null,
   "id": "9fab0fad",
   "metadata": {},
   "outputs": [],
   "source": []
  },
  {
   "cell_type": "code",
   "execution_count": null,
   "id": "30beed5b",
   "metadata": {},
   "outputs": [],
   "source": []
  },
  {
   "cell_type": "code",
   "execution_count": null,
   "id": "de095088",
   "metadata": {},
   "outputs": [],
   "source": []
  },
  {
   "cell_type": "code",
   "execution_count": null,
   "id": "3712d6ca",
   "metadata": {},
   "outputs": [],
   "source": []
  },
  {
   "cell_type": "code",
   "execution_count": null,
   "id": "58e01f4c",
   "metadata": {},
   "outputs": [],
   "source": []
  },
  {
   "cell_type": "markdown",
   "id": "85bb080f",
   "metadata": {},
   "source": [
    "# Chapter 7: Using Methods"
   ]
  },
  {
   "cell_type": "code",
   "execution_count": null,
   "id": "54be5e87",
   "metadata": {},
   "outputs": [],
   "source": []
  },
  {
   "cell_type": "code",
   "execution_count": null,
   "id": "1f02f8a1",
   "metadata": {},
   "outputs": [],
   "source": []
  },
  {
   "cell_type": "code",
   "execution_count": null,
   "id": "8051f58c",
   "metadata": {},
   "outputs": [],
   "source": []
  },
  {
   "cell_type": "code",
   "execution_count": null,
   "id": "b01508ce",
   "metadata": {},
   "outputs": [],
   "source": []
  },
  {
   "cell_type": "code",
   "execution_count": null,
   "id": "ab82afe3",
   "metadata": {},
   "outputs": [],
   "source": []
  },
  {
   "cell_type": "code",
   "execution_count": null,
   "id": "ccca866f",
   "metadata": {},
   "outputs": [],
   "source": []
  },
  {
   "cell_type": "code",
   "execution_count": null,
   "id": "cbc330c5",
   "metadata": {},
   "outputs": [],
   "source": []
  },
  {
   "cell_type": "code",
   "execution_count": null,
   "id": "16b86055",
   "metadata": {},
   "outputs": [],
   "source": []
  },
  {
   "cell_type": "code",
   "execution_count": null,
   "id": "23639448",
   "metadata": {},
   "outputs": [],
   "source": []
  },
  {
   "cell_type": "code",
   "execution_count": null,
   "id": "41ff6e6d",
   "metadata": {},
   "outputs": [],
   "source": []
  },
  {
   "cell_type": "markdown",
   "id": "b60d853a",
   "metadata": {},
   "source": [
    "# Chapter 8: Storing Collections of Data Using Lists"
   ]
  },
  {
   "cell_type": "code",
   "execution_count": null,
   "id": "66c14845",
   "metadata": {},
   "outputs": [],
   "source": []
  },
  {
   "cell_type": "code",
   "execution_count": null,
   "id": "77acdde7",
   "metadata": {},
   "outputs": [],
   "source": []
  },
  {
   "cell_type": "code",
   "execution_count": null,
   "id": "87425637",
   "metadata": {},
   "outputs": [],
   "source": []
  },
  {
   "cell_type": "code",
   "execution_count": null,
   "id": "da37f50d",
   "metadata": {},
   "outputs": [],
   "source": []
  },
  {
   "cell_type": "code",
   "execution_count": null,
   "id": "e97fc3ca",
   "metadata": {},
   "outputs": [],
   "source": []
  },
  {
   "cell_type": "code",
   "execution_count": null,
   "id": "7e352968",
   "metadata": {},
   "outputs": [],
   "source": []
  },
  {
   "cell_type": "code",
   "execution_count": null,
   "id": "c45a4fab",
   "metadata": {},
   "outputs": [],
   "source": []
  },
  {
   "cell_type": "code",
   "execution_count": null,
   "id": "3b32ea63",
   "metadata": {},
   "outputs": [],
   "source": []
  },
  {
   "cell_type": "code",
   "execution_count": null,
   "id": "388f8686",
   "metadata": {},
   "outputs": [],
   "source": []
  },
  {
   "cell_type": "code",
   "execution_count": null,
   "id": "27e45fd4",
   "metadata": {},
   "outputs": [],
   "source": []
  },
  {
   "cell_type": "markdown",
   "id": "80fe20e8",
   "metadata": {},
   "source": [
    "# Chapter 9: Repeating Code Using Loops"
   ]
  },
  {
   "cell_type": "code",
   "execution_count": null,
   "id": "e74bc6e7",
   "metadata": {},
   "outputs": [],
   "source": []
  },
  {
   "cell_type": "code",
   "execution_count": null,
   "id": "ec1a48d7",
   "metadata": {},
   "outputs": [],
   "source": []
  },
  {
   "cell_type": "code",
   "execution_count": null,
   "id": "46171955",
   "metadata": {},
   "outputs": [],
   "source": []
  },
  {
   "cell_type": "code",
   "execution_count": null,
   "id": "f18c8d46",
   "metadata": {},
   "outputs": [],
   "source": []
  },
  {
   "cell_type": "code",
   "execution_count": null,
   "id": "bae3a76a",
   "metadata": {},
   "outputs": [],
   "source": []
  },
  {
   "cell_type": "code",
   "execution_count": null,
   "id": "beef0ea3",
   "metadata": {},
   "outputs": [],
   "source": []
  },
  {
   "cell_type": "code",
   "execution_count": null,
   "id": "a0473600",
   "metadata": {},
   "outputs": [],
   "source": []
  },
  {
   "cell_type": "code",
   "execution_count": null,
   "id": "b79f5544",
   "metadata": {},
   "outputs": [],
   "source": []
  },
  {
   "cell_type": "code",
   "execution_count": null,
   "id": "4172deba",
   "metadata": {},
   "outputs": [],
   "source": []
  },
  {
   "cell_type": "code",
   "execution_count": null,
   "id": "96c10dd7",
   "metadata": {},
   "outputs": [],
   "source": []
  },
  {
   "cell_type": "markdown",
   "id": "542f93da",
   "metadata": {},
   "source": [
    "# Chapter 10: Reading and Writing Files"
   ]
  },
  {
   "cell_type": "code",
   "execution_count": null,
   "id": "cb6f429a",
   "metadata": {},
   "outputs": [],
   "source": []
  },
  {
   "cell_type": "code",
   "execution_count": null,
   "id": "14d6065f",
   "metadata": {},
   "outputs": [],
   "source": []
  },
  {
   "cell_type": "code",
   "execution_count": null,
   "id": "0c07479c",
   "metadata": {},
   "outputs": [],
   "source": []
  },
  {
   "cell_type": "code",
   "execution_count": null,
   "id": "46d0bcee",
   "metadata": {},
   "outputs": [],
   "source": []
  },
  {
   "cell_type": "code",
   "execution_count": null,
   "id": "af87f20a",
   "metadata": {},
   "outputs": [],
   "source": []
  },
  {
   "cell_type": "code",
   "execution_count": null,
   "id": "61ad34e5",
   "metadata": {},
   "outputs": [],
   "source": []
  },
  {
   "cell_type": "code",
   "execution_count": null,
   "id": "dbfa0f3f",
   "metadata": {},
   "outputs": [],
   "source": []
  },
  {
   "cell_type": "code",
   "execution_count": null,
   "id": "7c4ffdb6",
   "metadata": {},
   "outputs": [],
   "source": []
  },
  {
   "cell_type": "code",
   "execution_count": null,
   "id": "02f67b41",
   "metadata": {},
   "outputs": [],
   "source": []
  },
  {
   "cell_type": "code",
   "execution_count": null,
   "id": "d097d5b2",
   "metadata": {},
   "outputs": [],
   "source": []
  },
  {
   "cell_type": "markdown",
   "id": "86d3de53",
   "metadata": {},
   "source": [
    "# Chapter 11: Storing Data Using Other Collection Types"
   ]
  },
  {
   "cell_type": "code",
   "execution_count": null,
   "id": "776d940c",
   "metadata": {},
   "outputs": [],
   "source": []
  },
  {
   "cell_type": "code",
   "execution_count": null,
   "id": "42758c59",
   "metadata": {},
   "outputs": [],
   "source": []
  },
  {
   "cell_type": "code",
   "execution_count": null,
   "id": "cae9ba7d",
   "metadata": {},
   "outputs": [],
   "source": []
  },
  {
   "cell_type": "code",
   "execution_count": null,
   "id": "d3b455f0",
   "metadata": {},
   "outputs": [],
   "source": []
  },
  {
   "cell_type": "code",
   "execution_count": null,
   "id": "c13450f3",
   "metadata": {},
   "outputs": [],
   "source": []
  },
  {
   "cell_type": "code",
   "execution_count": null,
   "id": "647bd6cc",
   "metadata": {},
   "outputs": [],
   "source": []
  },
  {
   "cell_type": "code",
   "execution_count": null,
   "id": "73b9a3d9",
   "metadata": {},
   "outputs": [],
   "source": []
  },
  {
   "cell_type": "code",
   "execution_count": null,
   "id": "6fa7eff7",
   "metadata": {},
   "outputs": [],
   "source": []
  },
  {
   "cell_type": "code",
   "execution_count": null,
   "id": "b3f9fbd6",
   "metadata": {},
   "outputs": [],
   "source": []
  },
  {
   "cell_type": "code",
   "execution_count": null,
   "id": "9fcedbf2",
   "metadata": {},
   "outputs": [],
   "source": []
  },
  {
   "cell_type": "markdown",
   "id": "ee472684",
   "metadata": {},
   "source": [
    "# Chapter 12: Designing Algorithms"
   ]
  },
  {
   "cell_type": "code",
   "execution_count": null,
   "id": "7fdc2e65",
   "metadata": {},
   "outputs": [],
   "source": []
  },
  {
   "cell_type": "code",
   "execution_count": null,
   "id": "d572eabc",
   "metadata": {},
   "outputs": [],
   "source": []
  },
  {
   "cell_type": "code",
   "execution_count": null,
   "id": "c3cf6b1a",
   "metadata": {},
   "outputs": [],
   "source": []
  },
  {
   "cell_type": "code",
   "execution_count": null,
   "id": "eb7959ea",
   "metadata": {},
   "outputs": [],
   "source": []
  },
  {
   "cell_type": "code",
   "execution_count": null,
   "id": "bde57e24",
   "metadata": {},
   "outputs": [],
   "source": []
  },
  {
   "cell_type": "code",
   "execution_count": null,
   "id": "471996eb",
   "metadata": {},
   "outputs": [],
   "source": []
  },
  {
   "cell_type": "code",
   "execution_count": null,
   "id": "e1ae8103",
   "metadata": {},
   "outputs": [],
   "source": []
  },
  {
   "cell_type": "code",
   "execution_count": null,
   "id": "f45ff345",
   "metadata": {},
   "outputs": [],
   "source": []
  },
  {
   "cell_type": "code",
   "execution_count": null,
   "id": "1958d1db",
   "metadata": {},
   "outputs": [],
   "source": []
  },
  {
   "cell_type": "code",
   "execution_count": null,
   "id": "d9e63d47",
   "metadata": {},
   "outputs": [],
   "source": []
  },
  {
   "cell_type": "markdown",
   "id": "efa4d5de",
   "metadata": {},
   "source": [
    "# Chapter 13: Searching and Sorting"
   ]
  },
  {
   "cell_type": "code",
   "execution_count": null,
   "id": "7ccccf68",
   "metadata": {},
   "outputs": [],
   "source": []
  },
  {
   "cell_type": "code",
   "execution_count": null,
   "id": "aa1d9987",
   "metadata": {},
   "outputs": [],
   "source": []
  },
  {
   "cell_type": "code",
   "execution_count": null,
   "id": "87bba9f6",
   "metadata": {},
   "outputs": [],
   "source": []
  },
  {
   "cell_type": "code",
   "execution_count": null,
   "id": "91adcff7",
   "metadata": {},
   "outputs": [],
   "source": []
  },
  {
   "cell_type": "code",
   "execution_count": null,
   "id": "6933a01c",
   "metadata": {},
   "outputs": [],
   "source": []
  },
  {
   "cell_type": "code",
   "execution_count": null,
   "id": "40521daa",
   "metadata": {},
   "outputs": [],
   "source": []
  },
  {
   "cell_type": "code",
   "execution_count": null,
   "id": "3e868edd",
   "metadata": {},
   "outputs": [],
   "source": []
  },
  {
   "cell_type": "code",
   "execution_count": null,
   "id": "34fc22f3",
   "metadata": {},
   "outputs": [],
   "source": []
  },
  {
   "cell_type": "code",
   "execution_count": null,
   "id": "73a23455",
   "metadata": {},
   "outputs": [],
   "source": []
  },
  {
   "cell_type": "code",
   "execution_count": null,
   "id": "b5a9aeb8",
   "metadata": {},
   "outputs": [],
   "source": []
  },
  {
   "cell_type": "markdown",
   "id": "edc64b42",
   "metadata": {},
   "source": [
    "# Chapter 14: Object-Oriented Programming"
   ]
  },
  {
   "cell_type": "code",
   "execution_count": null,
   "id": "44f00939",
   "metadata": {},
   "outputs": [],
   "source": []
  },
  {
   "cell_type": "code",
   "execution_count": null,
   "id": "efb6ccf6",
   "metadata": {},
   "outputs": [],
   "source": []
  },
  {
   "cell_type": "code",
   "execution_count": null,
   "id": "90bc1991",
   "metadata": {},
   "outputs": [],
   "source": []
  },
  {
   "cell_type": "code",
   "execution_count": null,
   "id": "c8ae559d",
   "metadata": {},
   "outputs": [],
   "source": []
  },
  {
   "cell_type": "code",
   "execution_count": null,
   "id": "ae3e74e3",
   "metadata": {},
   "outputs": [],
   "source": []
  },
  {
   "cell_type": "code",
   "execution_count": null,
   "id": "9f902656",
   "metadata": {},
   "outputs": [],
   "source": []
  },
  {
   "cell_type": "code",
   "execution_count": null,
   "id": "e1c81416",
   "metadata": {},
   "outputs": [],
   "source": []
  },
  {
   "cell_type": "code",
   "execution_count": null,
   "id": "62a2e2b6",
   "metadata": {},
   "outputs": [],
   "source": []
  },
  {
   "cell_type": "code",
   "execution_count": null,
   "id": "30f196c0",
   "metadata": {},
   "outputs": [],
   "source": []
  },
  {
   "cell_type": "code",
   "execution_count": null,
   "id": "0acf75e3",
   "metadata": {},
   "outputs": [],
   "source": []
  },
  {
   "cell_type": "markdown",
   "id": "56cf0fd5",
   "metadata": {},
   "source": [
    "# Chapter 15: Testing and Debugging"
   ]
  },
  {
   "cell_type": "code",
   "execution_count": null,
   "id": "cd4f4d53",
   "metadata": {},
   "outputs": [],
   "source": []
  },
  {
   "cell_type": "code",
   "execution_count": null,
   "id": "90b3d282",
   "metadata": {},
   "outputs": [],
   "source": []
  },
  {
   "cell_type": "code",
   "execution_count": null,
   "id": "a4c87383",
   "metadata": {},
   "outputs": [],
   "source": []
  },
  {
   "cell_type": "code",
   "execution_count": null,
   "id": "54e40339",
   "metadata": {},
   "outputs": [],
   "source": []
  },
  {
   "cell_type": "code",
   "execution_count": null,
   "id": "86fa1337",
   "metadata": {},
   "outputs": [],
   "source": []
  },
  {
   "cell_type": "code",
   "execution_count": null,
   "id": "8b9be477",
   "metadata": {},
   "outputs": [],
   "source": []
  },
  {
   "cell_type": "code",
   "execution_count": null,
   "id": "01b24e3a",
   "metadata": {},
   "outputs": [],
   "source": []
  },
  {
   "cell_type": "code",
   "execution_count": null,
   "id": "fc920e88",
   "metadata": {},
   "outputs": [],
   "source": []
  },
  {
   "cell_type": "code",
   "execution_count": null,
   "id": "b8ebcfc0",
   "metadata": {},
   "outputs": [],
   "source": []
  },
  {
   "cell_type": "code",
   "execution_count": null,
   "id": "b8c93d13",
   "metadata": {},
   "outputs": [],
   "source": []
  },
  {
   "cell_type": "markdown",
   "id": "80f5eadb",
   "metadata": {},
   "source": [
    "# Chapter 16: Creating Graphical User Interfaces"
   ]
  },
  {
   "cell_type": "code",
   "execution_count": null,
   "id": "8069718d",
   "metadata": {},
   "outputs": [],
   "source": []
  },
  {
   "cell_type": "code",
   "execution_count": null,
   "id": "652ebb61",
   "metadata": {},
   "outputs": [],
   "source": []
  },
  {
   "cell_type": "code",
   "execution_count": null,
   "id": "f1a0d472",
   "metadata": {},
   "outputs": [],
   "source": []
  },
  {
   "cell_type": "code",
   "execution_count": null,
   "id": "21d49fbe",
   "metadata": {},
   "outputs": [],
   "source": []
  },
  {
   "cell_type": "code",
   "execution_count": null,
   "id": "e165bed8",
   "metadata": {},
   "outputs": [],
   "source": []
  },
  {
   "cell_type": "code",
   "execution_count": null,
   "id": "627f561b",
   "metadata": {},
   "outputs": [],
   "source": []
  },
  {
   "cell_type": "code",
   "execution_count": null,
   "id": "b85557bb",
   "metadata": {},
   "outputs": [],
   "source": []
  },
  {
   "cell_type": "code",
   "execution_count": null,
   "id": "60c5d839",
   "metadata": {},
   "outputs": [],
   "source": []
  },
  {
   "cell_type": "code",
   "execution_count": null,
   "id": "61a8ecc0",
   "metadata": {},
   "outputs": [],
   "source": []
  },
  {
   "cell_type": "code",
   "execution_count": null,
   "id": "b9961475",
   "metadata": {},
   "outputs": [],
   "source": []
  },
  {
   "cell_type": "markdown",
   "id": "27400098",
   "metadata": {},
   "source": [
    "# Chapter 17: Databases"
   ]
  },
  {
   "cell_type": "code",
   "execution_count": null,
   "id": "aea69af0",
   "metadata": {},
   "outputs": [],
   "source": []
  },
  {
   "cell_type": "code",
   "execution_count": null,
   "id": "888be589",
   "metadata": {},
   "outputs": [],
   "source": []
  },
  {
   "cell_type": "code",
   "execution_count": null,
   "id": "d195fa78",
   "metadata": {},
   "outputs": [],
   "source": []
  },
  {
   "cell_type": "code",
   "execution_count": null,
   "id": "5d74718f",
   "metadata": {},
   "outputs": [],
   "source": []
  },
  {
   "cell_type": "code",
   "execution_count": null,
   "id": "fbbfa82f",
   "metadata": {},
   "outputs": [],
   "source": []
  },
  {
   "cell_type": "code",
   "execution_count": null,
   "id": "f0e3f701",
   "metadata": {},
   "outputs": [],
   "source": []
  },
  {
   "cell_type": "code",
   "execution_count": null,
   "id": "76f8d476",
   "metadata": {},
   "outputs": [],
   "source": []
  },
  {
   "cell_type": "code",
   "execution_count": null,
   "id": "0c6151bc",
   "metadata": {},
   "outputs": [],
   "source": []
  },
  {
   "cell_type": "code",
   "execution_count": null,
   "id": "7e4b6bdb",
   "metadata": {},
   "outputs": [],
   "source": []
  },
  {
   "cell_type": "code",
   "execution_count": null,
   "id": "16fa8deb",
   "metadata": {},
   "outputs": [],
   "source": []
  }
 ],
 "metadata": {
  "kernelspec": {
   "display_name": "Python 3 (ipykernel)",
   "language": "python",
   "name": "python3"
  },
  "language_info": {
   "codemirror_mode": {
    "name": "ipython",
    "version": 3
   },
   "file_extension": ".py",
   "mimetype": "text/x-python",
   "name": "python",
   "nbconvert_exporter": "python",
   "pygments_lexer": "ipython3",
   "version": "3.9.12"
  }
 },
 "nbformat": 4,
 "nbformat_minor": 5
}
